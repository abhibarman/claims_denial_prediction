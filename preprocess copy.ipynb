{
 "cells": [
  {
   "cell_type": "code",
   "execution_count": 358,
   "metadata": {},
   "outputs": [],
   "source": [
    "from clearml import Task, TaskTypes, Dataset\n",
    "import pandas as pd\n",
    "from pandas_profiling import ProfileReport\n",
    "from sklearn.model_selection import train_test_split\n",
    "from sklearn.preprocessing import MinMaxScaler\n",
    "import joblib\n",
    "import ppscore as pps\n",
    "import matplotlib.pyplot as plt"
   ]
  },
  {
   "cell_type": "code",
   "execution_count": 359,
   "metadata": {},
   "outputs": [],
   "source": [
    "import warnings\n",
    "warnings.filterwarnings('ignore')"
   ]
  },
  {
   "cell_type": "code",
   "execution_count": 360,
   "metadata": {},
   "outputs": [],
   "source": [
    "def fix_cardinality(merged_no_dup, column, new_value ,in_freq = 30, ):\n",
    "    value_counts = merged_no_dup[column].value_counts()\n",
    "    higher_freq_values = []\n",
    "\n",
    "    freq_dict = dict(value_counts)\n",
    "    for value, freq in freq_dict.items():\n",
    "        if freq < in_freq:\n",
    "            merged_no_dup.loc[merged_no_dup[column] == value, column] = new_value \n",
    "        else:\n",
    "            higher_freq_values.append(value)\n",
    "    print(set(higher_freq_values))\n",
    "    return merged_no_dup"
   ]
  },
  {
   "cell_type": "code",
   "execution_count": 361,
   "metadata": {},
   "outputs": [
    {
     "data": {
      "text/plain": [
       "(2845, 68)"
      ]
     },
     "execution_count": 361,
     "metadata": {},
     "output_type": "execute_result"
    }
   ],
   "source": [
    "data = pd.read_excel('data/curated_claims_denial.xlsx')#'data/Claim Denial Updated V7.csv')\n",
    "data.shape"
   ]
  },
  {
   "cell_type": "code",
   "execution_count": 362,
   "metadata": {},
   "outputs": [
    {
     "data": {
      "text/plain": [
       "False"
      ]
     },
     "execution_count": 362,
     "metadata": {},
     "output_type": "execute_result"
    }
   ],
   "source": [
    "'COUNTYX' in data['COUNTY'].tolist()"
   ]
  },
  {
   "cell_type": "code",
   "execution_count": 363,
   "metadata": {},
   "outputs": [
    {
     "name": "stdout",
     "output_type": "stream",
     "text": [
      "41\n"
     ]
    }
   ],
   "source": [
    "columns_to_remove = ['Unnamed: 0' ,'CLAIM_TYPE', 'CLAIM_ID' , 'CLAIM_LINE_NUMBER', 'ENCOUNTER_ID', 'PATIENT_ID', 'Name',\n",
    "'CLAIM_END_DATE', 'CLAIM_LINE_START_DATE','CLAIM_LINE_END_DATE',\n",
    "'PLACE_OF_SERVICE_DESCRIPTION','REVENUE_CENTER_DESCRIPTION','RENDERING_NPI',\n",
    "'FACILITY_NPI','DISCHARGE_DISPOSITION_DESCRIPTION','DATA_SOURCE','PAYER', 'PAYER_TYPE', 'BIRTH_DATE','ZIP_CODE','DECEASED_FLAG',\n",
    "'CONDITION_DATE','CONDITION_TYPE','CODE_TYPE','DESCRIPTION','MONTH','YEAR','ENCOUNTER_START_DATE',\n",
    "'ENCOUNTER_END_DATE','ADMIT_SOURCE_DESCRIPTION','ADMIT_TYPE_DESCRIPTION',\n",
    "'Year','PHYSICIAN_NPI', 'DENIAL_CATEGORY','APPROVED_CHARGE','CLAIM_STATUS', 'REASON_CODE_DESCRIPTION','DIAG_GENDER_MISMATCH','DIAG_AGE_MISMATCH','DIFF_PROC_DT_COV_ST_DT','DIFF_PROC_DT_COV_ED_DT'] \n",
    "#,'COVERAGE_START_DATE','COVERAGE_END_DATE','CLAIM_START_DATE','PROCEDURE_DATE'\n",
    "print(len(columns_to_remove))"
   ]
  },
  {
   "cell_type": "code",
   "execution_count": 364,
   "metadata": {},
   "outputs": [],
   "source": [
    "dat_cols = [col for col in data.columns if 'DATE' in col]\n",
    "for col in dat_cols:\n",
    "    data[col] = data[col].astype('datetime64[ns]')"
   ]
  },
  {
   "cell_type": "code",
   "execution_count": 365,
   "metadata": {},
   "outputs": [
    {
     "data": {
      "text/plain": [
       "(2845, 70)"
      ]
     },
     "execution_count": 365,
     "metadata": {},
     "output_type": "execute_result"
    }
   ],
   "source": [
    "# 18\tExpenses incurred prior to coverage. PROCEDURE_DATE < COVERAGE_START_DATE\n",
    "for i in range(len(data)):\n",
    "    data.loc[i,'PROC_COVER_START_DIFF'] = (data.loc[i, \"PROCEDURE_DATE\"] - data.loc[i, \"COVERAGE_START_DATE\"]).days\n",
    "for i in range(len(data)):\n",
    "    data.loc[i,'PROC_COVER_START_MISMATCH'] = data.loc[i, \"PROCEDURE_DATE\"] < data.loc[i, \"COVERAGE_START_DATE\"]\n",
    "\n",
    "data.shape"
   ]
  },
  {
   "cell_type": "code",
   "execution_count": 366,
   "metadata": {},
   "outputs": [
    {
     "data": {
      "text/plain": [
       "(2845, 72)"
      ]
     },
     "execution_count": 366,
     "metadata": {},
     "output_type": "execute_result"
    }
   ],
   "source": [
    "#### 19\tExpenses incurred after coverage terminated. PROCEDURE_DATE > COVERAGE_END_DATE\n",
    "for i in range(len(data)):\n",
    "    data.loc[i,'PROC_COVER_END_DIFF'] = (data.loc[i, \"PROCEDURE_DATE\"] - data.loc[i, \"COVERAGE_END_DATE\"]).days\n",
    "    \n",
    "for i in range(len(data)):\n",
    "    data.loc[i,'PROC_COVER_END_MISMATCH'] = data.loc[i, \"PROCEDURE_DATE\"] < data.loc[i, \"COVERAGE_START_DATE\"]\n",
    "data.shape"
   ]
  },
  {
   "cell_type": "code",
   "execution_count": 367,
   "metadata": {},
   "outputs": [
    {
     "data": {
      "text/plain": [
       "(2845, 73)"
      ]
     },
     "execution_count": 367,
     "metadata": {},
     "output_type": "execute_result"
    }
   ],
   "source": [
    "# 10\tThe diagnosis is inconsistent with the patient's gender.*\n",
    "filtered = data[data['REASON_CODE'] == 10.0]\n",
    "codes = filtered['CODE'].unique()\n",
    "for i in range(len(data)):\n",
    "    if  data.loc[i, \"GENDER\"] == 'female' and  data.loc[i, \"CODE\"] in codes:\n",
    "        data.loc[i, 'CODE_AGE_MISMATCH'] = True\n",
    "    else:\n",
    "        data.loc[i, 'CODE_AGE_MISMATCH'] = False\n",
    "data.shape"
   ]
  },
  {
   "cell_type": "code",
   "execution_count": 368,
   "metadata": {},
   "outputs": [
    {
     "data": {
      "text/plain": [
       "(2845, 74)"
      ]
     },
     "execution_count": 368,
     "metadata": {},
     "output_type": "execute_result"
    }
   ],
   "source": [
    "# 9\tThe diagnosis is inconsistent with the patient's age. \n",
    "filtered = data[data['REASON_CODE'] == 9.0]\n",
    "codes = filtered['CODE'].unique()\n",
    "for i in range(len(data)):\n",
    "    if  data.loc[i, \"Age\"] < 20 and  data.loc[i, \"CODE\"] in codes:\n",
    "        if  data.loc[i, \"GENDER\"] == 'female' and  data.loc[i, \"CODE\"] in codes:\n",
    "            data.loc[i, 'CODE_GENDER_MISMATCH'] = True\n",
    "        else:\n",
    "            data.loc[i, 'CODE_GENDER_MISMATCH'] = False\n",
    "data.shape"
   ]
  },
  {
   "cell_type": "code",
   "execution_count": 369,
   "metadata": {},
   "outputs": [
    {
     "data": {
      "text/plain": [
       "(2845, 33)"
      ]
     },
     "execution_count": 369,
     "metadata": {},
     "output_type": "execute_result"
    }
   ],
   "source": [
    "col_removed_df = data.drop(columns_to_remove, axis=1)\n",
    "col_removed_df.shape"
   ]
  },
  {
   "cell_type": "code",
   "execution_count": 370,
   "metadata": {},
   "outputs": [
    {
     "data": {
      "text/plain": [
       "1     2725\n",
       "18      30\n",
       "19      30\n",
       "10      30\n",
       "9       30\n",
       "Name: REASON_CODE, dtype: int64"
      ]
     },
     "execution_count": 370,
     "metadata": {},
     "output_type": "execute_result"
    }
   ],
   "source": [
    "col_removed_df['REASON_CODE'].value_counts()"
   ]
  },
  {
   "cell_type": "code",
   "execution_count": 371,
   "metadata": {},
   "outputs": [],
   "source": [
    "norm_features = ['Age', 'TOTAL_CHARGES', 'SERVICE_UNIT_QUANTITY', 'PROC_COVER_START_DIFF','PROC_COVER_END_DIFF']\n",
    "#norm_features = ['Age', 'TOTAL_CHARGES', 'SERVICE_UNIT_QUANTITY']"
   ]
  },
  {
   "cell_type": "code",
   "execution_count": 372,
   "metadata": {},
   "outputs": [
    {
     "data": {
      "image/png": "[encoded data removed]",
      "text/plain": [
       "<Figure size 640x480 with 1 Axes>"
      ]
     },
     "metadata": {},
     "output_type": "display_data"
    }
   ],
   "source": [
    "col_removed_df['PROCEDURE_CODE'].value_counts().plot(kind='bar')\n",
    "plt.show()"
   ]
  },
  {
   "cell_type": "code",
   "execution_count": 373,
   "metadata": {},
   "outputs": [
    {
     "name": "stdout",
     "output_type": "stream",
     "text": [
      "{'Tennessee', 'Oregon', 'New Jersey', 'Iowa', 'Michigan', 'Texas', 'New York', 'Mississippi', 'North Carolina', 'Wisconsin', 'Pennsylvania', 'Washington', 'Oklahoma', 'South Carolina', 'Florida', 'Indiana', 'Ohio', 'California', 'Illinois', 'Minnesota', 'Massachusetts', 'Nebraska', 'Georgia'}\n"
     ]
    }
   ],
   "source": [
    "col_removed_df = fix_cardinality(col_removed_df,column='STATE', in_freq=50, new_value=\"STATE_X\")"
   ]
  },
  {
   "cell_type": "code",
   "execution_count": 374,
   "metadata": {},
   "outputs": [
    {
     "name": "stdout",
     "output_type": "stream",
     "text": [
      "{87040, 82306, 84484, 71048, 97164, 83735, 85018, 'Q0510', 99100, 85025, 'P2028', 'Q9967', 85027, 'G0378', 93229, 80048, 80053, 80061, 36415, 'A4206', 'Z7512', 93005, 'A9270', 99284, 97110, 84439, 84443, 83036, 'J7030', 93798, 96360, 81001, 85610, 81003, 88299, 'G0463', 97140, 82550, 97530, 'J3010'}\n",
      "{'Butler', 'Bailey', 'La Porte', 'Palm Beach', 'Smith', 'Knox', 'Pottawattamie', 'Wichita', 'Clatsop', 'Warrick', 'Cleveland', 'San Francisco', 'Cumberland', 'Washington', 'Middlesex', 'Delaware', 'Door', 'Madison', 'Los Angeles', 'Ventura', 'Horry', 'Suffolk'}\n",
      "set()\n",
      "{420, 300, 301, 272, 305, 730, 250, 636, 637, 510}\n",
      "{'0W3P8ZZ', '0DB98ZX', '0D9670Z', '0DJD8ZZ', '027034Z', '03CL0ZZ', '5A1955Z', '03CK0ZZ', '0T768DZ', 'B54MZZA', '5A1945Z', '4A023N8', 'B24BYZZ', 'B2151ZZ', '0SPC08Z', '8E0W4CZ', '0RG20A0', '027F3ZZ', 'B3101ZZ', '0SB20ZZ'}\n",
      "{'Tennessee', 'Oregon', 'New Jersey', 'Iowa', 'Michigan', 'Texas', 'New York', 'Mississippi', 'North Carolina', 'STATE_X', 'Wisconsin', 'Pennsylvania', 'Washington', 'Oklahoma', 'South Carolina', 'Florida', 'Indiana', 'Ohio', 'California', 'Illinois', 'Minnesota', 'Massachusetts', 'Nebraska', 'Georgia'}\n"
     ]
    },
    {
     "data": {
      "text/plain": [
       "(2845, 33)"
      ]
     },
     "execution_count": 374,
     "metadata": {},
     "output_type": "execute_result"
    }
   ],
   "source": [
    "col_removed_df = fix_cardinality(col_removed_df,column='HCPCS_CODE', in_freq=15, new_value='G8979')\n",
    "col_removed_df = fix_cardinality(col_removed_df,column='COUNTY', in_freq=30, new_value='COUNTY_X')\n",
    "col_removed_df = fix_cardinality(col_removed_df,column='CODE', in_freq=90, new_value=\"CODE_X\")\n",
    "col_removed_df = fix_cardinality(col_removed_df,column='REVENUE_CENTER_CODE', in_freq=50, new_value=\"REVENUE_CENTER_CODE_X\")\n",
    "col_removed_df = fix_cardinality(col_removed_df,column='PROCEDURE_CODE', in_freq=50, new_value=\"PROCEDURE_CODEX\")\n",
    "col_removed_df = fix_cardinality(col_removed_df,column='STATE', in_freq=50, new_value=\"STATE_X\")\n",
    "col_removed_df.shape"
   ]
  },
  {
   "cell_type": "code",
   "execution_count": 375,
   "metadata": {},
   "outputs": [
    {
     "data": {
      "text/plain": [
       "23"
      ]
     },
     "execution_count": 375,
     "metadata": {},
     "output_type": "execute_result"
    }
   ],
   "source": [
    "categorcal_cols = [col for col in col_removed_df.columns if 'DATE' not in col and col !='REASON_CODE' and col not in norm_features]\n",
    "len(categorcal_cols)"
   ]
  },
  {
   "cell_type": "code",
   "execution_count": 376,
   "metadata": {},
   "outputs": [
    {
     "name": "stdout",
     "output_type": "stream",
     "text": [
      "BILL_TYPE_CODE 24\n",
      "PLACE_OF_SERVICE_CODE 5\n",
      "REVENUE_CENTER_CODE 11\n",
      "HCPCS_CODE 41\n",
      "DISCHARGE_DISPOSITION_CODE 10\n",
      "GENDER 2\n",
      "RACE 7\n",
      "STATE 24\n",
      "COUNTY 23\n",
      "CODE 1\n",
      "PRESENT_ON_ADMIT 3\n",
      "DUAL_STATUS 9\n",
      "MEDICARE_STATUS 3\n",
      "ENCOUNTER_TYPE 5\n",
      "ADMIT_SOURCE_CODE 3\n",
      "ADMIT_TYPE_CODE 3\n",
      "MS_DRG 33\n",
      "PAYERS 6\n",
      "PROCEDURE_CODE 21\n",
      "PROC_COVER_START_MISMATCH 2\n",
      "PROC_COVER_END_MISMATCH 2\n",
      "CODE_AGE_MISMATCH 2\n",
      "CODE_GENDER_MISMATCH 2\n"
     ]
    }
   ],
   "source": [
    "for col in categorcal_cols:\n",
    "    print(col, col_removed_df[col].nunique())"
   ]
  },
  {
   "cell_type": "code",
   "execution_count": 377,
   "metadata": {},
   "outputs": [
    {
     "data": {
      "text/plain": [
       "(2845, 229)"
      ]
     },
     "execution_count": 377,
     "metadata": {},
     "output_type": "execute_result"
    }
   ],
   "source": [
    "dumy_encoded = pd.get_dummies(col_removed_df,columns=categorcal_cols,drop_first=True)\n",
    "dumy_encoded.shape"
   ]
  },
  {
   "cell_type": "code",
   "execution_count": 378,
   "metadata": {},
   "outputs": [],
   "source": [
    "dumy_encoded.to_csv('preprocessed_cat_encoded.csv', index=False)\n",
    "col_removed_df.to_csv('Preprocessed.csv', index=False)"
   ]
  },
  {
   "cell_type": "code",
   "execution_count": 379,
   "metadata": {},
   "outputs": [
    {
     "data": {
      "text/plain": [
       "Index(['CLAIM_START_DATE', 'BILL_TYPE_CODE', 'PLACE_OF_SERVICE_CODE',\n",
       "       'REVENUE_CENTER_CODE', 'SERVICE_UNIT_QUANTITY', 'TOTAL_CHARGES',\n",
       "       'HCPCS_CODE', 'DISCHARGE_DISPOSITION_CODE', 'COVERAGE_START_DATE',\n",
       "       'COVERAGE_END_DATE', 'GENDER', 'Age', 'RACE', 'STATE', 'COUNTY', 'CODE',\n",
       "       'PRESENT_ON_ADMIT', 'DUAL_STATUS', 'MEDICARE_STATUS', 'ENCOUNTER_TYPE',\n",
       "       'ADMIT_SOURCE_CODE', 'ADMIT_TYPE_CODE', 'MS_DRG', 'PROCEDURE_DATE',\n",
       "       'PAYERS', 'REASON_CODE', 'PROCEDURE_CODE', 'PROC_COVER_START_DIFF',\n",
       "       'PROC_COVER_START_MISMATCH', 'PROC_COVER_END_DIFF',\n",
       "       'PROC_COVER_END_MISMATCH', 'CODE_AGE_MISMATCH', 'CODE_GENDER_MISMATCH'],\n",
       "      dtype='object')"
      ]
     },
     "execution_count": 379,
     "metadata": {},
     "output_type": "execute_result"
    }
   ],
   "source": [
    "col_removed_df.columns"
   ]
  },
  {
   "cell_type": "code",
   "execution_count": 380,
   "metadata": {},
   "outputs": [],
   "source": [
    "col_removed_df.drop(columns=['REASON_CODE']).head().to_json('input_json_data.json', orient = 'split', compression = 'infer', index = 'true')"
   ]
  },
  {
   "cell_type": "code",
   "execution_count": 381,
   "metadata": {},
   "outputs": [],
   "source": [
    "col_removed_df.head().to_csv('input_data.csv')"
   ]
  },
  {
   "cell_type": "code",
   "execution_count": 382,
   "metadata": {},
   "outputs": [],
   "source": [
    "data = {\n",
    "'CLAIM_START_DATE':0,\n",
    "'BILL_TYPE_CODE':43025,\n",
    "'PLACE_OF_SERVICE_CODE':131,\n",
    "'REVENUE_CENTER_CODE':99,\n",
    "'SERVICE_UNIT_QUANTITY':'REVENUE_CENTER_CODE_X',\n",
    "'TOTAL_CHARGES':1,\n",
    "'HCPCS_CODE':250.42,\n",
    "'DISCHARGE_DISPOSITION_CODE':'G8979',\n",
    "'COVERAGE_START_DATE':1,\n",
    "'COVERAGE_END_DATE':42370,\n",
    "'GENDER':43344,\n",
    "'Age':'male',\n",
    "'RACE':92,\n",
    "'STATE':'white',\n",
    "'COUNTY':'STATE_X',\n",
    "'CODE':'COUNTY_X',\n",
    "'PRESENT_ON_ADMIT':'CODE_X',\n",
    "'DUAL_STATUS':0,\n",
    "'MEDICARE_STATUS':2,\n",
    "'ENCOUNTER_TYPE':10,\n",
    "'ADMIT_SOURCE_CODE':'Other',\n",
    "'ADMIT_TYPE_CODE':4,\n",
    "'MS_DRG':3,\n",
    "'PROCEDURE_DATE':378,\n",
    "'PAYERS':42293,\n",
    "'REASON_CODE':'Cigna',\n",
    "'PROCEDURE_CODE':18\n",
    "}"
   ]
  }
 ],
 "metadata": {
  "kernelspec": {
   "display_name": "base",
   "language": "python",
   "name": "python3"
  },
  "language_info": {
   "codemirror_mode": {
    "name": "ipython",
    "version": 3
   },
   "file_extension": ".py",
   "mimetype": "text/x-python",
   "name": "python",
   "nbconvert_exporter": "python",
   "pygments_lexer": "ipython3",
   "version": "3.10.9"
  },
  "orig_nbformat": 4
 },
 "nbformat": 4,
 "nbformat_minor": 2
}
