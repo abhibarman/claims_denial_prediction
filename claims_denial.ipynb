{
 "cells": [
  {
   "attachments": {},
   "cell_type": "markdown",
   "metadata": {},
   "source": [
    "#### Dependency"
   ]
  },
  {
   "cell_type": "code",
   "execution_count": 344,
   "metadata": {},
   "outputs": [],
   "source": [
    "import pandas as pd\n",
    "from pandas_profiling import ProfileReport\n",
    "from sklearn.model_selection import train_test_split\n",
    "from sklearn.preprocessing import MinMaxScaler"
   ]
  },
  {
   "attachments": {},
   "cell_type": "markdown",
   "metadata": {},
   "source": [
    "#### Load Approved"
   ]
  },
  {
   "cell_type": "code",
   "execution_count": 346,
   "metadata": {},
   "outputs": [
    {
     "data": {
      "text/plain": [
       "(2845, 68)"
      ]
     },
     "execution_count": 346,
     "metadata": {},
     "output_type": "execute_result"
    }
   ],
   "source": [
    "data = pd.read_excel('data/curated_claims_denial.xlsx')#'data/Claim Denial Updated V7.csv')\n",
    "data.shape"
   ]
  },
  {
   "cell_type": "code",
   "execution_count": 336,
   "metadata": {},
   "outputs": [],
   "source": [
    "dflist = []"
   ]
  },
  {
   "attachments": {},
   "cell_type": "markdown",
   "metadata": {},
   "source": [
    "#### 18\tExpenses incurred prior to coverage. PROCEDURE_DATE < COVERAGE_START_DATE\n"
   ]
  },
  {
   "attachments": {},
   "cell_type": "markdown",
   "metadata": {},
   "source": [
    "Rule: 1"
   ]
  },
  {
   "cell_type": "code",
   "execution_count": 337,
   "metadata": {},
   "outputs": [
    {
     "name": "stdout",
     "output_type": "stream",
     "text": [
      "1\n"
     ]
    },
    {
     "data": {
      "text/plain": [
       "18.0    30\n",
       "Name: REASON_CODE, dtype: int64"
      ]
     },
     "execution_count": 337,
     "metadata": {},
     "output_type": "execute_result"
    }
   ],
   "source": [
    "indexes = []\n",
    "reason_codes = []\n",
    "data['COVERAGE_START_DATE'] = data['COVERAGE_START_DATE'].astype('datetime64[ns]')\n",
    "data['PROCEDURE_DATE'] = data['PROCEDURE_DATE'].astype('datetime64[ns]')\n",
    "\n",
    "for i in range(len(data)):\n",
    "    if  data.loc[i, \"PROCEDURE_DATE\"] < data.loc[i, \"COVERAGE_START_DATE\"] and data.loc[i,'REASON_CODE'] == 18.0:\n",
    "        reason_codes.append({'CLAIM_ID':data.loc[i,'CLAIM_ID'],\n",
    "                             'CLAIM_LINE_NUMBER': data.loc[i,'CLAIM_LINE_NUMBER'],\n",
    "                             'CODE': data.loc[i,'CODE'],\n",
    "                             'PROCEDURE_CODE': data.loc[i,'PROCEDURE_CODE'],\n",
    "                             'CLAIM_STATUS':data.loc[i,'CLAIM_STATUS'] ,\n",
    "                             'REASON_CODE':data.loc[i,'REASON_CODE']})\n",
    "        indexes.append(i)\n",
    "dflist.append(pd.DataFrame(reason_codes))\n",
    "print(len(dflist))\n",
    "pd.DataFrame(reason_codes)['REASON_CODE'].value_counts()"
   ]
  },
  {
   "attachments": {},
   "cell_type": "markdown",
   "metadata": {},
   "source": [
    "This rule applies to many other reason codes apart from 18. "
   ]
  },
  {
   "attachments": {},
   "cell_type": "markdown",
   "metadata": {},
   "source": [
    "#### *10\tThe diagnosis is inconsistent with the patient's gender.*"
   ]
  },
  {
   "attachments": {},
   "cell_type": "markdown",
   "metadata": {},
   "source": [
    "Gender is constant(female). map Gender to Diagnosis Code(CODE)."
   ]
  },
  {
   "attachments": {},
   "cell_type": "markdown",
   "metadata": {},
   "source": [
    "Rule 2"
   ]
  },
  {
   "cell_type": "code",
   "execution_count": 338,
   "metadata": {},
   "outputs": [
    {
     "name": "stdout",
     "output_type": "stream",
     "text": [
      "2\n"
     ]
    },
    {
     "data": {
      "text/plain": [
       "10.0    30\n",
       "Name: REASON_CODE, dtype: int64"
      ]
     },
     "execution_count": 338,
     "metadata": {},
     "output_type": "execute_result"
    }
   ],
   "source": [
    "filtered = data[data['REASON_CODE'] == 10.0]\n",
    "codes = filtered['CODE'].unique()\n",
    "reason_codes = []\n",
    "for i in range(len(data)):\n",
    "    if  data.loc[i, \"GENDER\"] == 'female' and  data.loc[i, \"CODE\"] in codes and data.loc[i,'REASON_CODE'] == 10.0:\n",
    "        reason_codes.append({'CLAIM_ID':data.loc[i,'CLAIM_ID'],\n",
    "                             'CLAIM_LINE_NUMBER': data.loc[i,'CLAIM_LINE_NUMBER'],\n",
    "                             'CODE': data.loc[i,'CODE'],\n",
    "                             'PROCEDURE_CODE': data.loc[i,'PROCEDURE_CODE'],\n",
    "                             'CLAIM_STATUS':data.loc[i,'CLAIM_STATUS'] , \n",
    "                             'REASON_CODE':data.loc[i,'REASON_CODE'] })   \n",
    "        indexes.append(i)\n",
    "\n",
    "dflist.append(pd.DataFrame(reason_codes)) \n",
    "\n",
    "print(len(dflist))\n",
    "pd.DataFrame(reason_codes)['REASON_CODE'].value_counts()"
   ]
  },
  {
   "cell_type": "code",
   "execution_count": 342,
   "metadata": {},
   "outputs": [
    {
     "data": {
      "text/plain": [
       "['Z794',\n",
       " 'I5033',\n",
       " 'E10649',\n",
       " 'R4182',\n",
       " 'R42',\n",
       " 'R918',\n",
       " 'H2513',\n",
       " 'I10',\n",
       " 'E7800',\n",
       " 'Z888',\n",
       " 'R310',\n",
       " 'Z825',\n",
       " 'Z90710',\n",
       " 'J441',\n",
       " 'D122',\n",
       " 'Z87891',\n",
       " 'I252',\n",
       " 'D125',\n",
       " 'Z8546',\n",
       " 'I480',\n",
       " 'G8929',\n",
       " 'M19022',\n",
       " 'F419',\n",
       " 'Z01812',\n",
       " 'R079',\n",
       " 'M5126',\n",
       " 'N179']"
      ]
     },
     "execution_count": 342,
     "metadata": {},
     "output_type": "execute_result"
    }
   ],
   "source": [
    "[code  for code in codes]"
   ]
  },
  {
   "attachments": {},
   "cell_type": "markdown",
   "metadata": {},
   "source": [
    "#### 19\tExpenses incurred after coverage terminated. \n",
    "PROCEDURE_DATE > COVERAGE_END_DATE"
   ]
  },
  {
   "cell_type": "code",
   "execution_count": 306,
   "metadata": {},
   "outputs": [
    {
     "name": "stdout",
     "output_type": "stream",
     "text": [
      "3\n"
     ]
    },
    {
     "data": {
      "text/plain": [
       "19.0    30\n",
       "Name: REASON_CODE, dtype: int64"
      ]
     },
     "execution_count": 306,
     "metadata": {},
     "output_type": "execute_result"
    }
   ],
   "source": [
    "reason_codes = []\n",
    "data['COVERAGE_END_DATE'] = data['COVERAGE_END_DATE'].astype('datetime64[ns]')\n",
    "\n",
    "for i in range(len(data)):\n",
    "    if  data.loc[i, \"PROCEDURE_DATE\"] > data.loc[i, \"COVERAGE_END_DATE\"] and data.loc[i,'REASON_CODE'] == 19.0:\n",
    "        reason_codes.append({'CLAIM_ID':data.loc[i,'CLAIM_ID'],\n",
    "                             'CLAIM_LINE_NUMBER': data.loc[i,'CLAIM_LINE_NUMBER'],\n",
    "                             'CODE': data.loc[i,'CODE'],\n",
    "                             'PROCEDURE_CODE': data.loc[i,'PROCEDURE_CODE'],\n",
    "                             'CLAIM_STATUS':data.loc[i,'CLAIM_STATUS'],\n",
    "                             'REASON_CODE':data.loc[i,'REASON_CODE']})\n",
    "        indexes.append(i)\n",
    "dflist.append(pd.DataFrame(reason_codes)) \n",
    "\n",
    "print(len(dflist))\n",
    "        \n",
    "pd.DataFrame(reason_codes)['REASON_CODE'].value_counts()"
   ]
  },
  {
   "attachments": {},
   "cell_type": "markdown",
   "metadata": {},
   "source": [
    "#### 9\tThe diagnosis is inconsistent with the patient's age. "
   ]
  },
  {
   "cell_type": "code",
   "execution_count": 343,
   "metadata": {},
   "outputs": [
    {
     "data": {
      "text/plain": [
       "array(['R079', 'E873', 'I10', 'I25810', 'I440', 'K5900', 'S4992XA',\n",
       "       'M5137', 'G459', 'R0789', 'E785', 'R928', 'S42212A', 'Z90710',\n",
       "       'I482', 'I739', 'I70229', 'E8342', 'F329', 'M79642', 'E806',\n",
       "       'I071', 'Z23', 'M19072', 'E875', 'I4891', 'E7800'], dtype=object)"
      ]
     },
     "execution_count": 343,
     "metadata": {},
     "output_type": "execute_result"
    }
   ],
   "source": [
    "reason_codes = []\n",
    "filtered = data[data['REASON_CODE'] == 9.0]\n",
    "codes = filtered['CODE'].unique()\n",
    "codes"
   ]
  },
  {
   "cell_type": "code",
   "execution_count": 307,
   "metadata": {},
   "outputs": [
    {
     "name": "stdout",
     "output_type": "stream",
     "text": [
      "4\n"
     ]
    },
    {
     "data": {
      "text/plain": [
       "9.0    30\n",
       "Name: REASON_CODE, dtype: int64"
      ]
     },
     "execution_count": 307,
     "metadata": {},
     "output_type": "execute_result"
    }
   ],
   "source": [
    "reason_codes = []\n",
    "filtered = data[data['REASON_CODE'] == 9.0]\n",
    "codes = filtered['CODE'].unique()\n",
    "for i in range(len(data)):\n",
    "    if  data.loc[i, \"Age\"] <= 19 and  data.loc[i, \"CODE\"] in codes:\n",
    "        reason_codes.append({'CLAIM_ID':data.loc[i,'CLAIM_ID'],\n",
    "                             'CLAIM_LINE_NUMBER': data.loc[i,'CLAIM_LINE_NUMBER'],\n",
    "                             'CODE': data.loc[i,'CODE'],\n",
    "                             'PROCEDURE_CODE': data.loc[i,'PROCEDURE_CODE'],\n",
    "                             'CLAIM_STATUS':data.loc[i,'CLAIM_STATUS'] , \n",
    "                             'REASON_CODE':data.loc[i,'REASON_CODE'] }) \n",
    "        indexes.append(i)\n",
    "\n",
    "       \n",
    "dflist.append(pd.DataFrame(reason_codes)) \n",
    "print(len(dflist))        \n",
    "pd.DataFrame(reason_codes)['REASON_CODE'].value_counts()"
   ]
  },
  {
   "cell_type": "code",
   "execution_count": 308,
   "metadata": {},
   "outputs": [
    {
     "data": {
      "text/html": [
       "<div>\n",
       "<style scoped>\n",
       "    .dataframe tbody tr th:only-of-type {\n",
       "        vertical-align: middle;\n",
       "    }\n",
       "\n",
       "    .dataframe tbody tr th {\n",
       "        vertical-align: top;\n",
       "    }\n",
       "\n",
       "    .dataframe thead th {\n",
       "        text-align: right;\n",
       "    }\n",
       "</style>\n",
       "<table border=\"1\" class=\"dataframe\">\n",
       "  <thead>\n",
       "    <tr style=\"text-align: right;\">\n",
       "      <th></th>\n",
       "      <th>CLAIM_ID</th>\n",
       "      <th>CLAIM_LINE_NUMBER</th>\n",
       "      <th>CODE</th>\n",
       "      <th>PROCEDURE_CODE</th>\n",
       "      <th>CLAIM_STATUS</th>\n",
       "      <th>REASON_CODE</th>\n",
       "    </tr>\n",
       "  </thead>\n",
       "  <tbody>\n",
       "    <tr>\n",
       "      <th>0</th>\n",
       "      <td>4be65c41782f3a289b0ec4e009b70359</td>\n",
       "      <td>1</td>\n",
       "      <td>D125</td>\n",
       "      <td>4A023N7</td>\n",
       "      <td>Denied</td>\n",
       "      <td>18.0</td>\n",
       "    </tr>\n",
       "    <tr>\n",
       "      <th>1</th>\n",
       "      <td>a8da83e5dd8526ad556b2e18d0747338</td>\n",
       "      <td>1</td>\n",
       "      <td>Z01812</td>\n",
       "      <td>0W3P8ZZ</td>\n",
       "      <td>Denied</td>\n",
       "      <td>18.0</td>\n",
       "    </tr>\n",
       "    <tr>\n",
       "      <th>2</th>\n",
       "      <td>278cfe7a186f31122c37f22664e8057a</td>\n",
       "      <td>3</td>\n",
       "      <td>K219</td>\n",
       "      <td>3E03317</td>\n",
       "      <td>Denied</td>\n",
       "      <td>18.0</td>\n",
       "    </tr>\n",
       "    <tr>\n",
       "      <th>3</th>\n",
       "      <td>000adaadd604c7876ed0a6d308a1ef77</td>\n",
       "      <td>1</td>\n",
       "      <td>I10</td>\n",
       "      <td>021309W</td>\n",
       "      <td>Denied</td>\n",
       "      <td>18.0</td>\n",
       "    </tr>\n",
       "    <tr>\n",
       "      <th>4</th>\n",
       "      <td>be37db326ec3e681e30e56a58638f90c</td>\n",
       "      <td>1</td>\n",
       "      <td>F29</td>\n",
       "      <td>4A023N7</td>\n",
       "      <td>Denied</td>\n",
       "      <td>18.0</td>\n",
       "    </tr>\n",
       "  </tbody>\n",
       "</table>\n",
       "</div>"
      ],
      "text/plain": [
       "                           CLAIM_ID  CLAIM_LINE_NUMBER    CODE PROCEDURE_CODE  \\\n",
       "0  4be65c41782f3a289b0ec4e009b70359                  1    D125        4A023N7   \n",
       "1  a8da83e5dd8526ad556b2e18d0747338                  1  Z01812        0W3P8ZZ   \n",
       "2  278cfe7a186f31122c37f22664e8057a                  3    K219        3E03317   \n",
       "3  000adaadd604c7876ed0a6d308a1ef77                  1     I10        021309W   \n",
       "4  be37db326ec3e681e30e56a58638f90c                  1     F29        4A023N7   \n",
       "\n",
       "  CLAIM_STATUS  REASON_CODE  \n",
       "0       Denied         18.0  \n",
       "1       Denied         18.0  \n",
       "2       Denied         18.0  \n",
       "3       Denied         18.0  \n",
       "4       Denied         18.0  "
      ]
     },
     "execution_count": 308,
     "metadata": {},
     "output_type": "execute_result"
    }
   ],
   "source": [
    "denied = pd.concat(dflist)\n",
    "denied.head()"
   ]
  },
  {
   "cell_type": "code",
   "execution_count": 309,
   "metadata": {},
   "outputs": [
    {
     "data": {
      "text/plain": [
       "120"
      ]
     },
     "execution_count": 309,
     "metadata": {},
     "output_type": "execute_result"
    }
   ],
   "source": [
    "len(denied.CLAIM_ID.unique())"
   ]
  },
  {
   "cell_type": "code",
   "execution_count": 310,
   "metadata": {},
   "outputs": [
    {
     "data": {
      "text/plain": [
       "(120, 6)"
      ]
     },
     "execution_count": 310,
     "metadata": {},
     "output_type": "execute_result"
    }
   ],
   "source": [
    "denied.shape"
   ]
  },
  {
   "cell_type": "code",
   "execution_count": 311,
   "metadata": {},
   "outputs": [],
   "source": [
    "claim_ids = denied.CLAIM_ID.tolist()\n",
    "claim_lines = denied.CLAIM_LINE_NUMBER.tolist()\n",
    "codes = denied.CODE.tolist()\n",
    "proc_codes = denied.PROCEDURE_CODE.tolist()\n"
   ]
  },
  {
   "cell_type": "code",
   "execution_count": 312,
   "metadata": {},
   "outputs": [
    {
     "data": {
      "text/plain": [
       "(315, 64)"
      ]
     },
     "execution_count": 312,
     "metadata": {},
     "output_type": "execute_result"
    }
   ],
   "source": [
    "filtered_df = data[\n",
    "    (data['CLAIM_ID'].isin(claim_ids)) &\n",
    "    (data['CLAIM_LINE_NUMBER'].isin(claim_lines)) &\n",
    "    (data['CODE'].isin(codes)) &\n",
    "    (data['PROCEDURE_CODE'].isin(proc_codes))\n",
    "]\n",
    "filtered_df.shape"
   ]
  },
  {
   "cell_type": "code",
   "execution_count": 313,
   "metadata": {},
   "outputs": [
    {
     "data": {
      "text/plain": [
       "Denied      220\n",
       "Approved     95\n",
       "Name: CLAIM_STATUS, dtype: int64"
      ]
     },
     "execution_count": 313,
     "metadata": {},
     "output_type": "execute_result"
    }
   ],
   "source": [
    "filtered_df['CLAIM_STATUS'].value_counts()"
   ]
  },
  {
   "cell_type": "code",
   "execution_count": 314,
   "metadata": {},
   "outputs": [
    {
     "data": {
      "text/plain": [
       "(220, 64)"
      ]
     },
     "execution_count": 314,
     "metadata": {},
     "output_type": "execute_result"
    }
   ],
   "source": [
    "filtered_df[filtered_df['CLAIM_STATUS']=='Denied'].shape"
   ]
  },
  {
   "cell_type": "code",
   "execution_count": 315,
   "metadata": {},
   "outputs": [
    {
     "data": {
      "text/plain": [
       "\" nw_data = pd.DataFrame(columns=data.columns)\\nfor row in data.iterrows():\\n    #print(row[1].keys())\\n    nw_data = nw_data.append(row[1])\\nnw_data.shape\\n\\n\\nextracted_rows = data[data['CLAIM_ID'].isin(claim_ids)]\\nextracted_rows.shape\\n\\ndf = pd.DataFrame(columns=data.columns)\\nfor row in data.iterrows():\\n    if row[1][1] in  claim_ids and row[1][2] in  claim_lines and  row[1][1] in  claim_ids and  row[1][1] in  claim_ids and :\\n        df.add(row[1][1])  \\n\\n \""
      ]
     },
     "execution_count": 315,
     "metadata": {},
     "output_type": "execute_result"
    }
   ],
   "source": [
    "\"\"\" nw_data = pd.DataFrame(columns=data.columns)\n",
    "for row in data.iterrows():\n",
    "    #print(row[1].keys())\n",
    "    nw_data = nw_data.append(row[1])\n",
    "nw_data.shape\n",
    "\n",
    "\n",
    "extracted_rows = data[data['CLAIM_ID'].isin(claim_ids)]\n",
    "extracted_rows.shape\n",
    "\n",
    "df = pd.DataFrame(columns=data.columns)\n",
    "for row in data.iterrows():\n",
    "    if row[1][1] in  claim_ids and row[1][2] in  claim_lines and  row[1][1] in  claim_ids and  row[1][1] in  claim_ids and :\n",
    "        df.add(row[1][1])  \n",
    "\n",
    " \"\"\""
   ]
  },
  {
   "attachments": {},
   "cell_type": "markdown",
   "metadata": {},
   "source": [
    "#### 5\tThe procedure code/type of bill is inconsistent with the place of service"
   ]
  },
  {
   "cell_type": "code",
   "execution_count": 316,
   "metadata": {},
   "outputs": [
    {
     "name": "stdout",
     "output_type": "stream",
     "text": [
      "5\n"
     ]
    },
    {
     "data": {
      "text/plain": [
       "115.0    330\n",
       "29.0     321\n",
       "90.0     318\n",
       "32.0      34\n",
       "6.0       30\n",
       "13.0      30\n",
       "9.0       30\n",
       "10.0      30\n",
       "4.0       30\n",
       "19.0      30\n",
       "12.0      30\n",
       "7.0       30\n",
       "11.0      30\n",
       "16.0      30\n",
       "5.0       30\n",
       "18.0      30\n",
       "14.0      30\n",
       "26.0      29\n",
       "24.0      29\n",
       "117.0     29\n",
       "76.0      29\n",
       "31.0      29\n",
       "22.0      29\n",
       "27.0      29\n",
       "33.0      29\n",
       "20.0      29\n",
       "112.0     29\n",
       "23.0      29\n",
       "116.0     29\n",
       "111.0     29\n",
       "8.0       29\n",
       "74.0      29\n",
       "21.0      29\n",
       "118.0     28\n",
       "114.0     28\n",
       "Name: REASON_CODE, dtype: int64"
      ]
     },
     "execution_count": 316,
     "metadata": {},
     "output_type": "execute_result"
    }
   ],
   "source": [
    "\"\"\" BILL_TYPE_CODE = data['BILL_TYPE_CODE'].unique()\n",
    "HCPCS_CODE = data['HCPCS_CODE'].unique()\n",
    "PLACE_OF_SERVICE_CODE = data['PLACE_OF_SERVICE_CODE'].unique()\n",
    "\n",
    "\n",
    "reason_codes = []\n",
    "for i in range(len(data)):\n",
    "    if  (data.loc[i, \"BILL_TYPE_CODE\"] in  BILL_TYPE_CODE or  data.loc[i, \"HCPCS_CODE\"] in HCPCS_CODE) and \\\n",
    "        (data.loc[i, \"PLACE_OF_SERVICE_CODE\"] in PLACE_OF_SERVICE_CODE) and data.loc[i,'REASON_CODE'] == 5.0:\n",
    "\n",
    "        reason_codes.append({'CLAIM_ID':data.loc[i,'CLAIM_ID'],\n",
    "                              'CLAIM_STATUS':data.loc[i,'CLAIM_STATUS'], \n",
    "                              'REASON_CODE':data.loc[i,'REASON_CODE'] }) \n",
    "        indexes.append(i)\n",
    "\n",
    "       \n",
    "dflist.append(pd.DataFrame(reason_codes)) \n",
    "print(len(dflist))        \n",
    "pd.DataFrame(reason_codes)['REASON_CODE'].value_counts() \"\"\"\n",
    "\n",
    "###############\n",
    "bill_place = []\n",
    "proc_place = []\n",
    "reason_codes = []\n",
    "for x,y,z in zip(data['BILL_TYPE_CODE'],data['HCPCS_CODE'], data['PLACE_OF_SERVICE_CODE']):\n",
    "    bill_place.append((x,z))\n",
    "    proc_place.append((y,z))\n",
    "\n",
    "for i in range(len(data)):\n",
    "    b_p = (data.loc[i, \"BILL_TYPE_CODE\"], data.loc[i, \"PLACE_OF_SERVICE_CODE\"]) \n",
    "    p_p = (data.loc[i, \"HCPCS_CODE\"], data.loc[i, \"PLACE_OF_SERVICE_CODE\"]) \n",
    "    if (b_p in bill_place or p_p in proc_place):# and data.loc[i,'REASON_CODE'] == 5.0:\n",
    "        reason_codes.append({'CLAIM_ID':data.loc[i,'CLAIM_ID'],\n",
    "                              'CLAIM_STATUS':data.loc[i,'CLAIM_STATUS'], \n",
    "                              'REASON_CODE':data.loc[i,'REASON_CODE'] }) \n",
    "        indexes.append(i)\n",
    "dflist.append(pd.DataFrame(reason_codes)) \n",
    "print(len(dflist))        \n",
    "pd.DataFrame(reason_codes)['REASON_CODE'].value_counts()"
   ]
  },
  {
   "attachments": {},
   "cell_type": "markdown",
   "metadata": {},
   "source": [
    "#### 7\tThe procedure/revenue code is inconsistent with the patient's gender"
   ]
  },
  {
   "cell_type": "code",
   "execution_count": 317,
   "metadata": {},
   "outputs": [
    {
     "name": "stdout",
     "output_type": "stream",
     "text": [
      "6\n"
     ]
    },
    {
     "data": {
      "text/plain": [
       "115.0    330\n",
       "29.0     321\n",
       "90.0     318\n",
       "32.0      34\n",
       "6.0       30\n",
       "13.0      30\n",
       "9.0       30\n",
       "10.0      30\n",
       "4.0       30\n",
       "19.0      30\n",
       "12.0      30\n",
       "7.0       30\n",
       "11.0      30\n",
       "16.0      30\n",
       "5.0       30\n",
       "18.0      30\n",
       "14.0      30\n",
       "26.0      29\n",
       "24.0      29\n",
       "117.0     29\n",
       "76.0      29\n",
       "31.0      29\n",
       "22.0      29\n",
       "27.0      29\n",
       "33.0      29\n",
       "20.0      29\n",
       "112.0     29\n",
       "23.0      29\n",
       "116.0     29\n",
       "111.0     29\n",
       "8.0       29\n",
       "74.0      29\n",
       "21.0      29\n",
       "118.0     28\n",
       "114.0     28\n",
       "Name: REASON_CODE, dtype: int64"
      ]
     },
     "execution_count": 317,
     "metadata": {},
     "output_type": "execute_result"
    }
   ],
   "source": [
    "rev_gen = []\n",
    "pro_gen = []\n",
    "reason_codes = []\n",
    "\n",
    "for x,y,z in zip(data['REVENUE_CENTER_CODE'],data['PROCEDURE_CODE'], data['GENDER']):\n",
    "    rev_gen.append((x,z))\n",
    "    pro_gen.append((y,z))\n",
    "\n",
    "for i in range(len(data)):\n",
    "    r_g = (data.loc[i, \"REVENUE_CENTER_CODE\"], data.loc[i, \"GENDER\"]) \n",
    "    p_g = (data.loc[i, \"PROCEDURE_CODE\"], data.loc[i, \"GENDER\"]) \n",
    "    if (r_g in rev_gen or p_g in pro_gen):# and data.loc[i,'REASON_CODE'] == 116.0:\n",
    "        reason_codes.append({'CLAIM_ID':data.loc[i,'CLAIM_ID'],\n",
    "                              'CLAIM_STATUS':data.loc[i,'CLAIM_STATUS'], \n",
    "                              'REASON_CODE':data.loc[i,'REASON_CODE'] }) \n",
    "        indexes.append(i)\n",
    "dflist.append(pd.DataFrame(reason_codes)) \n",
    "print(len(dflist))        \n",
    "pd.DataFrame(reason_codes)['REASON_CODE'].value_counts()"
   ]
  },
  {
   "attachments": {},
   "cell_type": "markdown",
   "metadata": {},
   "source": [
    "#### 116\tRevenue code and Procedure code do not match."
   ]
  },
  {
   "cell_type": "code",
   "execution_count": 318,
   "metadata": {},
   "outputs": [
    {
     "name": "stdout",
     "output_type": "stream",
     "text": [
      "7\n"
     ]
    },
    {
     "data": {
      "text/plain": [
       "115.0    330\n",
       "29.0     321\n",
       "90.0     318\n",
       "32.0      34\n",
       "6.0       30\n",
       "13.0      30\n",
       "9.0       30\n",
       "10.0      30\n",
       "4.0       30\n",
       "19.0      30\n",
       "12.0      30\n",
       "7.0       30\n",
       "11.0      30\n",
       "16.0      30\n",
       "5.0       30\n",
       "18.0      30\n",
       "14.0      30\n",
       "26.0      29\n",
       "24.0      29\n",
       "117.0     29\n",
       "76.0      29\n",
       "31.0      29\n",
       "22.0      29\n",
       "27.0      29\n",
       "33.0      29\n",
       "20.0      29\n",
       "112.0     29\n",
       "23.0      29\n",
       "116.0     29\n",
       "111.0     29\n",
       "8.0       29\n",
       "74.0      29\n",
       "21.0      29\n",
       "118.0     28\n",
       "114.0     28\n",
       "Name: REASON_CODE, dtype: int64"
      ]
     },
     "execution_count": 318,
     "metadata": {},
     "output_type": "execute_result"
    }
   ],
   "source": [
    "lst = []\n",
    "for x,y in zip(data['REVENUE_CENTER_CODE'],data['PROCEDURE_CODE']):\n",
    "    lst.append((x,y))\n",
    "pairs = set(lst)\n",
    "\n",
    "reason_codes = []\n",
    "for i in range(len(data)):\n",
    "    pair = (data.loc[i, \"REVENUE_CENTER_CODE\"], data.loc[i, \"PROCEDURE_CODE\"]) \n",
    "    if pair in pairs:# and data.loc[i,'REASON_CODE'] == 116.0:\n",
    "        reason_codes.append({'CLAIM_ID':data.loc[i,'CLAIM_ID'],\n",
    "                              'CLAIM_STATUS':data.loc[i,'CLAIM_STATUS'], \n",
    "                              'REASON_CODE':data.loc[i,'REASON_CODE'] }) \n",
    "        indexes.append(i)\n",
    "\n",
    "dflist.append(pd.DataFrame(reason_codes)) \n",
    "print(len(dflist))        \n",
    "pd.DataFrame(reason_codes)['REASON_CODE'].value_counts()"
   ]
  },
  {
   "cell_type": "code",
   "execution_count": 319,
   "metadata": {},
   "outputs": [
    {
     "data": {
      "text/plain": [
       "16920"
      ]
     },
     "execution_count": 319,
     "metadata": {},
     "output_type": "execute_result"
    }
   ],
   "source": [
    "tot = 0\n",
    "for x in dflist:\n",
    "    tot += x.shape[0]\n",
    "tot"
   ]
  },
  {
   "attachments": {},
   "cell_type": "markdown",
   "metadata": {},
   "source": [
    "#### Approved claims"
   ]
  },
  {
   "attachments": {},
   "cell_type": "markdown",
   "metadata": {},
   "source": [
    "##### extract approved records"
   ]
  },
  {
   "cell_type": "code",
   "execution_count": 320,
   "metadata": {},
   "outputs": [
    {
     "data": {
      "text/plain": [
       "(3687, 64)"
      ]
     },
     "execution_count": 320,
     "metadata": {},
     "output_type": "execute_result"
    }
   ],
   "source": [
    "Approved = data[data.CLAIM_STATUS == 'Approved'].copy(deep=True)\n",
    "Approved.reset_index(inplace=True, drop=True)\n",
    "Approved.shape"
   ]
  },
  {
   "cell_type": "code",
   "execution_count": 321,
   "metadata": {},
   "outputs": [
    {
     "data": {
      "text/plain": [
       "(3687, 64)"
      ]
     },
     "execution_count": 321,
     "metadata": {},
     "output_type": "execute_result"
    }
   ],
   "source": [
    "#18\tExpenses incurred prior to coverage. PROCEDURE_DATE < COVERAGE_START_DATE\n",
    "indexes = []\n",
    "for i in range(len(Approved)):\n",
    "    if  Approved.loc[i, \"PROCEDURE_DATE\"] < Approved.loc[i, \"COVERAGE_START_DATE\"]:\n",
    "        indexes.append(i)\n",
    "Approved.drop(index=indexes, inplace=True)\n",
    "Approved.reset_index(inplace=True, drop=True)\n",
    "Approved.shape"
   ]
  },
  {
   "cell_type": "code",
   "execution_count": 322,
   "metadata": {},
   "outputs": [
    {
     "data": {
      "text/plain": [
       "(2946, 64)"
      ]
     },
     "execution_count": 322,
     "metadata": {},
     "output_type": "execute_result"
    }
   ],
   "source": [
    "#10\tThe diagnosis is inconsistent with the patient's gender.\n",
    "indexes = []\n",
    "for i in range(len(Approved)):\n",
    "    if  Approved.loc[i, \"GENDER\"] == 'female' and  Approved.loc[i, \"CODE\"] in codes:\n",
    "        #Approved.drop(index=i, inplace=True)\n",
    "        indexes.append(i)\n",
    "Approved.drop(index=indexes, inplace=True)\n",
    "Approved.reset_index(inplace=True, drop=True)\n",
    "Approved.shape"
   ]
  },
  {
   "cell_type": "code",
   "execution_count": 323,
   "metadata": {},
   "outputs": [
    {
     "data": {
      "text/plain": [
       "(2630, 64)"
      ]
     },
     "execution_count": 323,
     "metadata": {},
     "output_type": "execute_result"
    }
   ],
   "source": [
    "#19\tExpenses incurred after coverage terminated. \n",
    "indexes = []\n",
    "for i in range(len(Approved)):\n",
    "    if  Approved.loc[i, \"PROCEDURE_DATE\"] > Approved.loc[i, \"COVERAGE_END_DATE\"]:\n",
    "        #Approved.drop(index=i, inplace=True)\n",
    "        indexes.append(i)\n",
    "Approved.drop(index=indexes, inplace=True)\n",
    "Approved.reset_index(inplace=True, drop=True)\n",
    "Approved.shape"
   ]
  },
  {
   "cell_type": "code",
   "execution_count": 324,
   "metadata": {},
   "outputs": [
    {
     "data": {
      "text/plain": [
       "(2630, 64)"
      ]
     },
     "execution_count": 324,
     "metadata": {},
     "output_type": "execute_result"
    }
   ],
   "source": [
    "# 9\tThe diagnosis is inconsistent with the patient's age. \n",
    "indexes = []\n",
    "filtered = data[data['REASON_CODE'] == 9.0]\n",
    "codes = filtered['CODE'].unique()\n",
    "for i in range(len(Approved)):\n",
    "    if  Approved.loc[i, \"Age\"] == 19 and  Approved.loc[i, \"CODE\"] in codes:\n",
    "        #Approved.drop(index=i, inplace=True)\n",
    "        indexes.append(i)\n",
    "Approved.drop(index=indexes, inplace=True)\n",
    "Approved.reset_index(inplace=True, drop=True)\n",
    "Approved.shape"
   ]
  },
  {
   "cell_type": "code",
   "execution_count": 325,
   "metadata": {},
   "outputs": [
    {
     "data": {
      "text/html": [
       "<div>\n",
       "<style scoped>\n",
       "    .dataframe tbody tr th:only-of-type {\n",
       "        vertical-align: middle;\n",
       "    }\n",
       "\n",
       "    .dataframe tbody tr th {\n",
       "        vertical-align: top;\n",
       "    }\n",
       "\n",
       "    .dataframe thead th {\n",
       "        text-align: right;\n",
       "    }\n",
       "</style>\n",
       "<table border=\"1\" class=\"dataframe\">\n",
       "  <thead>\n",
       "    <tr style=\"text-align: right;\">\n",
       "      <th></th>\n",
       "      <th>Unnamed: 0</th>\n",
       "      <th>CLAIM_ID</th>\n",
       "      <th>CLAIM_LINE_NUMBER</th>\n",
       "      <th>CLAIM_TYPE</th>\n",
       "      <th>ENCOUNTER_ID</th>\n",
       "      <th>PATIENT_ID</th>\n",
       "      <th>Name</th>\n",
       "      <th>CLAIM_START_DATE</th>\n",
       "      <th>CLAIM_END_DATE</th>\n",
       "      <th>CLAIM_LINE_START_DATE</th>\n",
       "      <th>...</th>\n",
       "      <th>MS_DRG</th>\n",
       "      <th>PROCEDURE_DATE</th>\n",
       "      <th>Year</th>\n",
       "      <th>CLAIM_STATUS</th>\n",
       "      <th>PAYERS</th>\n",
       "      <th>DENIAL_CATEGORY</th>\n",
       "      <th>REASON_CODE</th>\n",
       "      <th>PHYSICIAN_NPI</th>\n",
       "      <th>PROCEDURE_CODE</th>\n",
       "      <th>REASON_CODE_DESCRIPTION</th>\n",
       "    </tr>\n",
       "  </thead>\n",
       "  <tbody>\n",
       "    <tr>\n",
       "      <th>0</th>\n",
       "      <td>1029.0</td>\n",
       "      <td>11c5940ee272f653a256810d2db1e048</td>\n",
       "      <td>1</td>\n",
       "      <td>I</td>\n",
       "      <td>11c5940ee272f653a256810d2db1e048</td>\n",
       "      <td>10042</td>\n",
       "      <td>Dorothy Hernandez</td>\n",
       "      <td>8/18/2017</td>\n",
       "      <td>8/18/2017</td>\n",
       "      <td>8/18/2017</td>\n",
       "      <td>...</td>\n",
       "      <td>202</td>\n",
       "      <td>2017-08-17</td>\n",
       "      <td>2017</td>\n",
       "      <td>Approved</td>\n",
       "      <td>BCBS</td>\n",
       "      <td>NaN</td>\n",
       "      <td>NaN</td>\n",
       "      <td>1901949420</td>\n",
       "      <td>0RGA071</td>\n",
       "      <td>Fusion T-lum Jt w Autol Sub, Post Appr P Col, ...</td>\n",
       "    </tr>\n",
       "    <tr>\n",
       "      <th>1</th>\n",
       "      <td>1030.0</td>\n",
       "      <td>11c5940ee272f653a256810d2db1e048</td>\n",
       "      <td>2</td>\n",
       "      <td>I</td>\n",
       "      <td>11c5940ee272f653a256810d2db1e048</td>\n",
       "      <td>10042</td>\n",
       "      <td>Dorothy Hernandez</td>\n",
       "      <td>8/18/2017</td>\n",
       "      <td>8/18/2017</td>\n",
       "      <td>8/18/2017</td>\n",
       "      <td>...</td>\n",
       "      <td>202</td>\n",
       "      <td>2017-08-17</td>\n",
       "      <td>2017</td>\n",
       "      <td>Approved</td>\n",
       "      <td>Medicare</td>\n",
       "      <td>NaN</td>\n",
       "      <td>NaN</td>\n",
       "      <td>1901949420</td>\n",
       "      <td>0RGA071</td>\n",
       "      <td>Fusion T-lum Jt w Autol Sub, Post Appr P Col, ...</td>\n",
       "    </tr>\n",
       "    <tr>\n",
       "      <th>2</th>\n",
       "      <td>1031.0</td>\n",
       "      <td>11c5940ee272f653a256810d2db1e048</td>\n",
       "      <td>3</td>\n",
       "      <td>I</td>\n",
       "      <td>11c5940ee272f653a256810d2db1e048</td>\n",
       "      <td>10042</td>\n",
       "      <td>Dorothy Hernandez</td>\n",
       "      <td>8/18/2017</td>\n",
       "      <td>8/18/2017</td>\n",
       "      <td>8/18/2017</td>\n",
       "      <td>...</td>\n",
       "      <td>202</td>\n",
       "      <td>2017-08-17</td>\n",
       "      <td>2017</td>\n",
       "      <td>Approved</td>\n",
       "      <td>Medicare</td>\n",
       "      <td>NaN</td>\n",
       "      <td>NaN</td>\n",
       "      <td>1901949420</td>\n",
       "      <td>0RGA071</td>\n",
       "      <td>Fusion T-lum Jt w Autol Sub, Post Appr P Col, ...</td>\n",
       "    </tr>\n",
       "    <tr>\n",
       "      <th>3</th>\n",
       "      <td>1032.0</td>\n",
       "      <td>11c5940ee272f653a256810d2db1e048</td>\n",
       "      <td>4</td>\n",
       "      <td>I</td>\n",
       "      <td>11c5940ee272f653a256810d2db1e048</td>\n",
       "      <td>10042</td>\n",
       "      <td>Dorothy Hernandez</td>\n",
       "      <td>8/18/2017</td>\n",
       "      <td>8/18/2017</td>\n",
       "      <td>8/18/2017</td>\n",
       "      <td>...</td>\n",
       "      <td>202</td>\n",
       "      <td>2017-08-17</td>\n",
       "      <td>2017</td>\n",
       "      <td>Approved</td>\n",
       "      <td>Aetna</td>\n",
       "      <td>NaN</td>\n",
       "      <td>NaN</td>\n",
       "      <td>1901949420</td>\n",
       "      <td>0RGA071</td>\n",
       "      <td>Fusion T-lum Jt w Autol Sub, Post Appr P Col, ...</td>\n",
       "    </tr>\n",
       "    <tr>\n",
       "      <th>4</th>\n",
       "      <td>1033.0</td>\n",
       "      <td>fbadd1baa2ac6e5dcf2865bf0366506c</td>\n",
       "      <td>1</td>\n",
       "      <td>I</td>\n",
       "      <td>fbadd1baa2ac6e5dcf2865bf0366506c</td>\n",
       "      <td>10556</td>\n",
       "      <td>Linda Smith</td>\n",
       "      <td>6/29/2017</td>\n",
       "      <td>6/29/2017</td>\n",
       "      <td>6/29/2017</td>\n",
       "      <td>...</td>\n",
       "      <td>378</td>\n",
       "      <td>2017-06-28</td>\n",
       "      <td>2017</td>\n",
       "      <td>Approved</td>\n",
       "      <td>Aetna</td>\n",
       "      <td>NaN</td>\n",
       "      <td>NaN</td>\n",
       "      <td>1698463008</td>\n",
       "      <td>0W3P8ZZ</td>\n",
       "      <td>Control Bleeding in Gastrointestinal Tract, Endo</td>\n",
       "    </tr>\n",
       "  </tbody>\n",
       "</table>\n",
       "<p>5 rows × 64 columns</p>\n",
       "</div>"
      ],
      "text/plain": [
       "   Unnamed: 0                          CLAIM_ID  CLAIM_LINE_NUMBER CLAIM_TYPE  \\\n",
       "0      1029.0  11c5940ee272f653a256810d2db1e048                  1          I   \n",
       "1      1030.0  11c5940ee272f653a256810d2db1e048                  2          I   \n",
       "2      1031.0  11c5940ee272f653a256810d2db1e048                  3          I   \n",
       "3      1032.0  11c5940ee272f653a256810d2db1e048                  4          I   \n",
       "4      1033.0  fbadd1baa2ac6e5dcf2865bf0366506c                  1          I   \n",
       "\n",
       "                       ENCOUNTER_ID  PATIENT_ID               Name  \\\n",
       "0  11c5940ee272f653a256810d2db1e048       10042  Dorothy Hernandez   \n",
       "1  11c5940ee272f653a256810d2db1e048       10042  Dorothy Hernandez   \n",
       "2  11c5940ee272f653a256810d2db1e048       10042  Dorothy Hernandez   \n",
       "3  11c5940ee272f653a256810d2db1e048       10042  Dorothy Hernandez   \n",
       "4  fbadd1baa2ac6e5dcf2865bf0366506c       10556        Linda Smith   \n",
       "\n",
       "  CLAIM_START_DATE CLAIM_END_DATE CLAIM_LINE_START_DATE  ... MS_DRG  \\\n",
       "0        8/18/2017      8/18/2017             8/18/2017  ...    202   \n",
       "1        8/18/2017      8/18/2017             8/18/2017  ...    202   \n",
       "2        8/18/2017      8/18/2017             8/18/2017  ...    202   \n",
       "3        8/18/2017      8/18/2017             8/18/2017  ...    202   \n",
       "4        6/29/2017      6/29/2017             6/29/2017  ...    378   \n",
       "\n",
       "  PROCEDURE_DATE  Year CLAIM_STATUS    PAYERS DENIAL_CATEGORY  REASON_CODE  \\\n",
       "0     2017-08-17  2017     Approved      BCBS             NaN          NaN   \n",
       "1     2017-08-17  2017     Approved  Medicare             NaN          NaN   \n",
       "2     2017-08-17  2017     Approved  Medicare             NaN          NaN   \n",
       "3     2017-08-17  2017     Approved     Aetna             NaN          NaN   \n",
       "4     2017-06-28  2017     Approved     Aetna             NaN          NaN   \n",
       "\n",
       "   PHYSICIAN_NPI  PROCEDURE_CODE  \\\n",
       "0     1901949420         0RGA071   \n",
       "1     1901949420         0RGA071   \n",
       "2     1901949420         0RGA071   \n",
       "3     1901949420         0RGA071   \n",
       "4     1698463008         0W3P8ZZ   \n",
       "\n",
       "                             REASON_CODE_DESCRIPTION  \n",
       "0  Fusion T-lum Jt w Autol Sub, Post Appr P Col, ...  \n",
       "1  Fusion T-lum Jt w Autol Sub, Post Appr P Col, ...  \n",
       "2  Fusion T-lum Jt w Autol Sub, Post Appr P Col, ...  \n",
       "3  Fusion T-lum Jt w Autol Sub, Post Appr P Col, ...  \n",
       "4   Control Bleeding in Gastrointestinal Tract, Endo  \n",
       "\n",
       "[5 rows x 64 columns]"
      ]
     },
     "execution_count": 325,
     "metadata": {},
     "output_type": "execute_result"
    }
   ],
   "source": [
    "Approved.head()"
   ]
  },
  {
   "cell_type": "code",
   "execution_count": 326,
   "metadata": {},
   "outputs": [
    {
     "data": {
      "text/plain": [
       "(2945, 64)"
      ]
     },
     "execution_count": 326,
     "metadata": {},
     "output_type": "execute_result"
    }
   ],
   "source": [
    "merged = pd.concat([filtered_df, Approved], axis=0)\n",
    "merged.shape"
   ]
  },
  {
   "cell_type": "code",
   "execution_count": 327,
   "metadata": {},
   "outputs": [],
   "source": [
    "reason_codes_filtered = [18.0, 10.0, 9.0, 19.0, 1.0]"
   ]
  },
  {
   "cell_type": "code",
   "execution_count": 328,
   "metadata": {},
   "outputs": [
    {
     "data": {
      "text/plain": [
       "array([ 18.,  19.,  10.,   9.,  29.,   1.,  90., 115.])"
      ]
     },
     "execution_count": 328,
     "metadata": {},
     "output_type": "execute_result"
    }
   ],
   "source": [
    "merged['REASON_CODE'].fillna(1.0, inplace=True)\n",
    "merged.REASON_CODE.unique()"
   ]
  },
  {
   "cell_type": "code",
   "execution_count": 329,
   "metadata": {},
   "outputs": [
    {
     "data": {
      "text/plain": [
       "(2845, 64)"
      ]
     },
     "execution_count": 329,
     "metadata": {},
     "output_type": "execute_result"
    }
   ],
   "source": [
    "merged = merged[merged['REASON_CODE'].isin(reason_codes_filtered)]\n",
    "merged.shape"
   ]
  },
  {
   "cell_type": "code",
   "execution_count": 330,
   "metadata": {},
   "outputs": [],
   "source": [
    "merged.to_csv('curated_claims_denial.csv', index=False)"
   ]
  },
  {
   "cell_type": "code",
   "execution_count": 331,
   "metadata": {},
   "outputs": [
    {
     "data": {
      "text/plain": [
       "(2845, 64)"
      ]
     },
     "execution_count": 331,
     "metadata": {},
     "output_type": "execute_result"
    }
   ],
   "source": [
    "merged.shape"
   ]
  },
  {
   "cell_type": "code",
   "execution_count": null,
   "metadata": {},
   "outputs": [],
   "source": []
  },
  {
   "cell_type": "code",
   "execution_count": 51,
   "metadata": {},
   "outputs": [
    {
     "data": {
      "text/plain": [
       "999"
      ]
     },
     "execution_count": 51,
     "metadata": {},
     "output_type": "execute_result"
    }
   ],
   "source": [
    "# 116\tRevenue code and Procedure code do not match.\n",
    "lst = []\n",
    "indexes = []\n",
    "for x,y in zip(Approved['REVENUE_CENTER_CODE'],Approved['PROCEDURE_CODE']):\n",
    "    lst.append((x,y))\n",
    "pairs = set(lst)\n",
    "\n",
    "for i in range(len(Approved)):\n",
    "    pair = (Approved.loc[i, \"REVENUE_CENTER_CODE\"], Approved.loc[i, \"PROCEDURE_CODE\"]) \n",
    "    if pair in pairs:\n",
    "        #Approved.drop(index=i, inplace=True)\n",
    "        indexes.append(i)\n",
    "\n",
    "Approved.drop(index=indexes, inplace=True)\n",
    "Approved.reset_index(inplace=True, drop=True)\n",
    "Approved.shape"
   ]
  },
  {
   "cell_type": "code",
   "execution_count": null,
   "metadata": {},
   "outputs": [],
   "source": [
    "\"\"\" indexes = []\n",
    "for i in range(len(Approved)):\n",
    "    if  Approved.loc[i, \"Age\"] == 19 and  Approved.loc[i, \"CODE\"] in codes:\n",
    "        Approved.drop(index=i, inplace=True)\n",
    "        indexes.append(i)\n",
    "Approved.drop(index=indexes, inplace=True)\n",
    "Approved.reset_index(inplace=True, drop=True)\n",
    "Approved.shape\n",
    "\n",
    "\n",
    "\n",
    "#5\n",
    "indexes = []\n",
    "bill_place = []\n",
    "proc_place = []\n",
    "reason_codes = []\n",
    "for x,y,z in zip(Approved['BILL_TYPE_CODE'],Approved['HCPCS_CODE'], Approved['PLACE_OF_SERVICE_CODE']):\n",
    "    bill_place.append((x,z))\n",
    "    proc_place.append((y,z))\n",
    "\n",
    "for i in range(len(Approved)):\n",
    "    b_p = (Approved.loc[i, \"BILL_TYPE_CODE\"], Approved.loc[i, \"PLACE_OF_SERVICE_CODE\"]) \n",
    "    p_p = (Approved.loc[i, \"HCPCS_CODE\"], Approved.loc[i, \"PLACE_OF_SERVICE_CODE\"]) \n",
    "    if (b_p in bill_place or p_p in proc_place):\n",
    "        indexes.append(i)\n",
    "Approved.drop(index=indexes, inplace=True)\n",
    "Approved.reset_index(inplace=True, drop=True)\n",
    "Approved.shape\n",
    "\n",
    "\n",
    "#7\n",
    "indexes = []\n",
    "rev_gen = []\n",
    "pro_gen = []\n",
    "reason_codes = []\n",
    "\n",
    "for x,y,z in zip(Approved['REVENUE_CENTER_CODE'],Approved['PROCEDURE_CODE'], Approved['GENDER']):\n",
    "    rev_gen.append((x,z))\n",
    "    pro_gen.append((y,z))\n",
    "\n",
    "for i in range(len(Approved)):\n",
    "    r_g = (Approved.loc[i, \"REVENUE_CENTER_CODE\"], Approved.loc[i, \"GENDER\"]) \n",
    "    p_g = (Approved.loc[i, \"PROCEDURE_CODE\"], Approved.loc[i, \"GENDER\"]) \n",
    "    if (r_g in rev_gen or p_g in pro_gen):\n",
    "        #Approved.drop(index=i, inplace=True)\n",
    "        indexes.append(i)\n",
    "\n",
    "Approved.drop(index=indexes, inplace=True)\n",
    "Approved.reset_index(inplace=True, drop=True)\n",
    "Approved.head() \"\"\"\n",
    "\n",
    "\n",
    "\n",
    "\"\"\" #rule 18\n",
    "reason_codes = []\n",
    "dflist_app = []\n",
    "indexes = []\n",
    "for i in range(len(Approved)):\n",
    "    if  Approved.loc[i, \"PROCEDURE_DATE\"] < Approved.loc[i, \"COVERAGE_START_DATE\"]:\n",
    "        indexes.append(i)\n",
    "Approved.drop(index=indexes)\n",
    "Approved.reset_index(inplace=True)\n",
    "Approved.shape\n",
    "\n",
    "\n",
    "#rule 10\n",
    "indexes = []\n",
    "filtered = data[data['REASON_CODE'] == 10.0]\n",
    "codes = filtered['CODE'].unique()\n",
    "for i in range(len(Approved)):\n",
    "    if  Approved.loc[i, \"GENDER\"] == 'female' and  Approved.loc[i, \"CODE\"] in codes:\n",
    "        indexes.append(i)\n",
    "Approved.drop(i, inplace=True)\n",
    "Approved.reset_index(inplace=True)\n",
    "Approved.shape\n",
    "\n",
    "\n",
    "#rule 19\n",
    "for i in range(len(Approved)):\n",
    "    if  Approved.loc[i, \"PROCEDURE_DATE\"] > Approved.loc[i, \"COVERAGE_END_DATE\"]:\n",
    "        Approved.drop(i, inplace=True)\n",
    "#Approved.reset_index(inplace=True)\n",
    "Approved.shape\n",
    "\n",
    "\n",
    "#rule 9\n",
    "\n",
    "filtered = Approved[Approved['REASON_CODE'] == 9.0]\n",
    "codes = filtered['CODE'].unique()\n",
    "for i in range(len(Approved)):\n",
    "    if  Approved.loc[i, \"Age\"] == 19 and  Approved.loc[i, \"CODE\"] in codes:\n",
    "        Approved.drop(i, inplace=True)\n",
    "Approved.reset_index(inplace=True)\n",
    "Approved.shape \"\"\""
   ]
  }
 ],
 "metadata": {
  "kernelspec": {
   "display_name": "base",
   "language": "python",
   "name": "python3"
  },
  "language_info": {
   "codemirror_mode": {
    "name": "ipython",
    "version": 3
   },
   "file_extension": ".py",
   "mimetype": "text/x-python",
   "name": "python",
   "nbconvert_exporter": "python",
   "pygments_lexer": "ipython3",
   "version": "3.10.9"
  },
  "orig_nbformat": 4
 },
 "nbformat": 4,
 "nbformat_minor": 2
}
